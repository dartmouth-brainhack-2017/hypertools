{
 "cells": [
  {
   "cell_type": "markdown",
   "metadata": {},
   "source": [
    "## Find place field order\n",
    "Since the analysis isn't written in python yet, we can use a magic command to invoke all the analysis code in matlab and run it inline!\n",
    "\n",
    "First, we invoke the matlab extension:"
   ]
  },
  {
   "cell_type": "markdown",
   "metadata": {
    "heading_collapsed": true
   },
   "source": [
    "#### Running MATLAB in python"
   ]
  },
  {
   "cell_type": "code",
   "execution_count": 1,
   "metadata": {
    "ExecuteTime": {
     "end_time": "2017-03-06T12:07:47.546394",
     "start_time": "2017-03-06T12:07:39.643033"
    },
    "collapsed": false,
    "hidden": true
   },
   "outputs": [
    {
     "name": "stdout",
     "output_type": "stream",
     "text": [
      "Starting MATLAB on ZMQ socket ipc:///tmp/pymatbridge-649da1d1-e7f6-4f6b-87cd-0e9321f5e09d\n",
      "Send 'exit' command to kill the server\n",
      ".......MATLAB started and connected!\n"
     ]
    }
   ],
   "source": [
    "%load_ext pymatbridge"
   ]
  },
  {
   "cell_type": "markdown",
   "metadata": {
    "hidden": true
   },
   "source": [
    "Next, we run some code from the analysis in `Plot_Ordered_Raster` found [here](https://github.com/youkitan/vandermeerlab/blob/master/code-matlab/example_workflows/Plot_Ordered_Raster.ipynb) to get our place cell ordering:"
   ]
  },
  {
   "cell_type": "code",
   "execution_count": 2,
   "metadata": {
    "ExecuteTime": {
     "end_time": "2017-03-06T12:07:55.234987",
     "start_time": "2017-03-06T12:07:47.548679"
    },
    "collapsed": false,
    "hidden": true
   },
   "outputs": [
    {
     "data": {
      "text/plain": [
       "LoadSpikes: Loading 92 files...\n",
       "LoadPos.m: 100.00% of samples tracked.\n",
       "LoadCSC: Loading 5 file(s)...\n",
       "LoadCSC: /Users/youkitanaka/Documents/data/R050/R050-2014-04-02/R050-2014-04-02-CSC06a.ncs 0/17942 bad blocks found (0.00%).\n",
       "LoadCSC: /Users/youkitanaka/Documents/data/R050/R050-2014-04-02/R050-2014-04-02-CSC07a.ncs 0/17942 bad blocks found (0.00%).\n",
       "LoadCSC: /Users/youkitanaka/Documents/data/R050/R050-2014-04-02/R050-2014-04-02-CSC08a.ncs 0/17942 bad blocks found (0.00%).\n",
       "LoadCSC: /Users/youkitanaka/Documents/data/R050/R050-2014-04-02/R050-2014-04-02-HS1R2.ncs 0/17942 bad blocks found (0.00%).\n",
       "LoadCSC: /Users/youkitanaka/Documents/data/R050/R050-2014-04-02/R050-2014-04-02-HS3R2.ncs 0/17942 bad blocks found (0.00%).\n",
       "StandardizeCoord: standardizing coord...\n",
       "StandardizeCoord: input pointDist factors incorrectly. Approximating value...\n",
       "LinearizePos: linearizing data...\n"
      ]
     },
     "metadata": {},
     "output_type": "display_data"
    }
   ],
   "source": [
    "%%matlab -o cell_order\n",
    "\n",
    "warning('off','all') %only since its annoying otherwise\n",
    "\n",
    "mvdmlab_path = '/Users/youkitanaka/Documents/Github/vandermeerlab/code-matlab/shared'; \n",
    "cd(mvdmlab_path);\n",
    "p = genpath(pwd);\n",
    "addpath(p);\n",
    "\n",
    "proj_path = '/Users/youkitanaka/Documents/Github/vandermeerlab/code-matlab/tasks/Alyssa_Tmaze'; \n",
    "cd(proj_path);\n",
    "p = genpath(pwd);\n",
    "addpath(p);\n",
    "\n",
    "cd('/Users/youkitanaka/Documents/data/R050/R050-2014-04-02')\n",
    "\n",
    "LoadExpKeys;\n",
    "LoadMetadata;\n",
    "\n",
    "data.S = LoadSpikes([]);\n",
    "data.pos = LoadPos([]) ;\n",
    "data.csc = LoadCSC([]);\n",
    "data.trials = metadata.taskvars.trial_iv_L; data.trials.type = 'iv';\n",
    "data.coord = metadata.coord.coordL;\n",
    "data.stdcoord = StandardizeCoord([],data.coord,334,'pointDist',3);\n",
    "data.linpos = LinearizePos([],data.pos,data.stdcoord);  \n",
    "\n",
    "data.tc = TuningCurves([],data.S,data.linpos);\n",
    "data.fields = DetectPlaceCells1D([],data.tc.tc);\n",
    "\n",
    "cell_order = data.fields.template_idx;\n",
    "\n",
    "clearvars -except cell_order"
   ]
  },
  {
   "cell_type": "markdown",
   "metadata": {
    "hidden": true
   },
   "source": [
    "The cool thing with jupyter is that you can invoke the matlab code and tell it to send the data to python!"
   ]
  },
  {
   "cell_type": "markdown",
   "metadata": {},
   "source": [
    "#### Place cell order"
   ]
  },
  {
   "cell_type": "code",
   "execution_count": 3,
   "metadata": {
    "ExecuteTime": {
     "end_time": "2017-03-06T12:07:55.251970",
     "start_time": "2017-03-06T12:07:55.237125"
    },
    "collapsed": false
   },
   "outputs": [
    {
     "data": {
      "text/plain": [
       "array([[ 85.,   5.,  62.,  66.,   6.,  54.,  36.,  53.,  37.,  82.,  65.,\n",
       "         76.,   4.,  31.,  44.,  52.,  57.,  39.,  84.,  30.,  16.,  27.,\n",
       "         81.,  59.,   7.,  41.]])"
      ]
     },
     "execution_count": 3,
     "metadata": {},
     "output_type": "execute_result"
    }
   ],
   "source": [
    "cell_order"
   ]
  },
  {
   "cell_type": "markdown",
   "metadata": {},
   "source": [
    "Now that we have a list of the place cell order, let's load the data in python and make our interactive plot!"
   ]
  },
  {
   "cell_type": "markdown",
   "metadata": {},
   "source": [
    "### Making an interactive raster plot"
   ]
  },
  {
   "cell_type": "markdown",
   "metadata": {},
   "source": [
    "#### Initialization and data loading"
   ]
  },
  {
   "cell_type": "code",
   "execution_count": 4,
   "metadata": {
    "ExecuteTime": {
     "end_time": "2017-03-06T12:07:56.811220",
     "start_time": "2017-03-06T12:07:55.253735"
    },
    "collapsed": false
   },
   "outputs": [],
   "source": [
    "import matplotlib.pyplot as plt\n",
    "import hypertools as hyp\n",
    "import numpy as np\n",
    "import pandas as pd\n",
    "%matplotlib inline\n",
    "from matplotlib import animation, rc\n",
    "from sklearn.decomposition import PCA\n",
    "from IPython.display import HTML\n",
    "import vdmtools as vdm\n",
    "from vdmtools import printm\n",
    "\n",
    "%matplotlib inline\n",
    "\n",
    "import warnings\n",
    "warnings.filterwarnings('ignore')"
   ]
  },
  {
   "cell_type": "code",
   "execution_count": 5,
   "metadata": {
    "ExecuteTime": {
     "end_time": "2017-03-06T12:07:56.818656",
     "start_time": "2017-03-06T12:07:56.813491"
    },
    "collapsed": false
   },
   "outputs": [
    {
     "name": "stdout",
     "output_type": "stream",
     "text": [
      "/Users/youkitanaka/Documents/Github/hypertools-fork/sandbox_rats/ratdata/R050-2014-04-02\n"
     ]
    }
   ],
   "source": [
    "cd ratdata/R050-2014-04-02"
   ]
  },
  {
   "cell_type": "code",
   "execution_count": 6,
   "metadata": {
    "ExecuteTime": {
     "end_time": "2017-03-06T12:07:59.439880",
     "start_time": "2017-03-06T12:07:56.820443"
    },
    "collapsed": false
   },
   "outputs": [],
   "source": [
    "data = vdm.loadmat('spikes.mat')\n",
    "S = data['spikes']\n",
    "data = vdm.loadmat('lfpTH.mat')\n",
    "runLFP = data['lfpTH']\n",
    "data = vdm.loadmat('metadata.mat')\n",
    "metadata = data['metadata']\n",
    "data = vdm.loadmat('position.mat')\n",
    "pos = data['position']"
   ]
  },
  {
   "cell_type": "code",
   "execution_count": 7,
   "metadata": {
    "ExecuteTime": {
     "end_time": "2017-03-06T12:08:01.524561",
     "start_time": "2017-03-06T12:07:59.441857"
    },
    "collapsed": true
   },
   "outputs": [],
   "source": [
    "l = pd.Series(runLFP['data'],runLFP['tvec'])\n",
    "x = pd.Series(pos['data'][0],pos['tvec'])\n",
    "y = pd.Series(pos['data'][1],pos['tvec'])\n",
    "lfpdata = pd.DataFrame({'lfp':l,'x_pos':x,'y_pos':y})"
   ]
  },
  {
   "cell_type": "code",
   "execution_count": 8,
   "metadata": {
    "ExecuteTime": {
     "end_time": "2017-03-06T12:08:01.645293",
     "start_time": "2017-03-06T12:08:01.526746"
    },
    "collapsed": false
   },
   "outputs": [],
   "source": [
    "idx = cell_order[0].astype(int)\n",
    "S_ordered = S['t'][idx]\n",
    "s = {}\n",
    "for cell in range(len(S_ordered)):\n",
    "    cellname = idx[cell]\n",
    "    s[cellname] = pd.Series(np.ones(len(S_ordered[cell])).astype(int),S_ordered[cell])\n",
    "spikes = pd.DataFrame(s)"
   ]
  },
  {
   "cell_type": "code",
   "execution_count": 9,
   "metadata": {
    "ExecuteTime": {
     "end_time": "2017-03-06T12:08:01.689118",
     "start_time": "2017-03-06T12:08:01.647155"
    },
    "collapsed": false
   },
   "outputs": [
    {
     "data": {
      "text/html": [
       "<div>\n",
       "<table border=\"1\" class=\"dataframe\">\n",
       "  <thead>\n",
       "    <tr style=\"text-align: right;\">\n",
       "      <th></th>\n",
       "      <th>lfp</th>\n",
       "      <th>x_pos</th>\n",
       "      <th>y_pos</th>\n",
       "    </tr>\n",
       "  </thead>\n",
       "  <tbody>\n",
       "    <tr>\n",
       "      <th>4371.442104</th>\n",
       "      <td>0.000286</td>\n",
       "      <td>NaN</td>\n",
       "      <td>NaN</td>\n",
       "    </tr>\n",
       "    <tr>\n",
       "      <th>4371.442604</th>\n",
       "      <td>0.000318</td>\n",
       "      <td>NaN</td>\n",
       "      <td>NaN</td>\n",
       "    </tr>\n",
       "    <tr>\n",
       "      <th>4371.443104</th>\n",
       "      <td>0.000348</td>\n",
       "      <td>NaN</td>\n",
       "      <td>NaN</td>\n",
       "    </tr>\n",
       "    <tr>\n",
       "      <th>4371.443600</th>\n",
       "      <td>NaN</td>\n",
       "      <td>187.0</td>\n",
       "      <td>331.0</td>\n",
       "    </tr>\n",
       "    <tr>\n",
       "      <th>4371.443604</th>\n",
       "      <td>0.000367</td>\n",
       "      <td>NaN</td>\n",
       "      <td>NaN</td>\n",
       "    </tr>\n",
       "  </tbody>\n",
       "</table>\n",
       "</div>"
      ],
      "text/plain": [
       "                  lfp  x_pos  y_pos\n",
       "4371.442104  0.000286    NaN    NaN\n",
       "4371.442604  0.000318    NaN    NaN\n",
       "4371.443104  0.000348    NaN    NaN\n",
       "4371.443600       NaN  187.0  331.0\n",
       "4371.443604  0.000367    NaN    NaN"
      ]
     },
     "execution_count": 9,
     "metadata": {},
     "output_type": "execute_result"
    },
    {
     "data": {
      "text/html": [
       "<div>\n",
       "<table border=\"1\" class=\"dataframe\">\n",
       "  <thead>\n",
       "    <tr style=\"text-align: right;\">\n",
       "      <th></th>\n",
       "      <th>4</th>\n",
       "      <th>5</th>\n",
       "      <th>6</th>\n",
       "      <th>7</th>\n",
       "      <th>16</th>\n",
       "      <th>27</th>\n",
       "      <th>30</th>\n",
       "      <th>31</th>\n",
       "      <th>36</th>\n",
       "      <th>37</th>\n",
       "      <th>...</th>\n",
       "      <th>57</th>\n",
       "      <th>59</th>\n",
       "      <th>62</th>\n",
       "      <th>65</th>\n",
       "      <th>66</th>\n",
       "      <th>76</th>\n",
       "      <th>81</th>\n",
       "      <th>82</th>\n",
       "      <th>84</th>\n",
       "      <th>85</th>\n",
       "    </tr>\n",
       "  </thead>\n",
       "  <tbody>\n",
       "    <tr>\n",
       "      <th>4372.0352</th>\n",
       "      <td>NaN</td>\n",
       "      <td>NaN</td>\n",
       "      <td>NaN</td>\n",
       "      <td>NaN</td>\n",
       "      <td>NaN</td>\n",
       "      <td>NaN</td>\n",
       "      <td>NaN</td>\n",
       "      <td>NaN</td>\n",
       "      <td>NaN</td>\n",
       "      <td>NaN</td>\n",
       "      <td>...</td>\n",
       "      <td>NaN</td>\n",
       "      <td>NaN</td>\n",
       "      <td>NaN</td>\n",
       "      <td>NaN</td>\n",
       "      <td>NaN</td>\n",
       "      <td>NaN</td>\n",
       "      <td>NaN</td>\n",
       "      <td>NaN</td>\n",
       "      <td>NaN</td>\n",
       "      <td>NaN</td>\n",
       "    </tr>\n",
       "    <tr>\n",
       "      <th>4372.3079</th>\n",
       "      <td>NaN</td>\n",
       "      <td>NaN</td>\n",
       "      <td>NaN</td>\n",
       "      <td>NaN</td>\n",
       "      <td>NaN</td>\n",
       "      <td>NaN</td>\n",
       "      <td>NaN</td>\n",
       "      <td>NaN</td>\n",
       "      <td>NaN</td>\n",
       "      <td>NaN</td>\n",
       "      <td>...</td>\n",
       "      <td>NaN</td>\n",
       "      <td>NaN</td>\n",
       "      <td>NaN</td>\n",
       "      <td>NaN</td>\n",
       "      <td>NaN</td>\n",
       "      <td>NaN</td>\n",
       "      <td>NaN</td>\n",
       "      <td>NaN</td>\n",
       "      <td>NaN</td>\n",
       "      <td>NaN</td>\n",
       "    </tr>\n",
       "    <tr>\n",
       "      <th>4372.6089</th>\n",
       "      <td>NaN</td>\n",
       "      <td>NaN</td>\n",
       "      <td>NaN</td>\n",
       "      <td>NaN</td>\n",
       "      <td>NaN</td>\n",
       "      <td>NaN</td>\n",
       "      <td>NaN</td>\n",
       "      <td>NaN</td>\n",
       "      <td>NaN</td>\n",
       "      <td>NaN</td>\n",
       "      <td>...</td>\n",
       "      <td>NaN</td>\n",
       "      <td>NaN</td>\n",
       "      <td>NaN</td>\n",
       "      <td>NaN</td>\n",
       "      <td>NaN</td>\n",
       "      <td>NaN</td>\n",
       "      <td>NaN</td>\n",
       "      <td>NaN</td>\n",
       "      <td>NaN</td>\n",
       "      <td>NaN</td>\n",
       "    </tr>\n",
       "    <tr>\n",
       "      <th>4372.7451</th>\n",
       "      <td>NaN</td>\n",
       "      <td>NaN</td>\n",
       "      <td>NaN</td>\n",
       "      <td>NaN</td>\n",
       "      <td>NaN</td>\n",
       "      <td>NaN</td>\n",
       "      <td>NaN</td>\n",
       "      <td>NaN</td>\n",
       "      <td>NaN</td>\n",
       "      <td>NaN</td>\n",
       "      <td>...</td>\n",
       "      <td>NaN</td>\n",
       "      <td>1.0</td>\n",
       "      <td>NaN</td>\n",
       "      <td>NaN</td>\n",
       "      <td>NaN</td>\n",
       "      <td>NaN</td>\n",
       "      <td>NaN</td>\n",
       "      <td>NaN</td>\n",
       "      <td>NaN</td>\n",
       "      <td>NaN</td>\n",
       "    </tr>\n",
       "    <tr>\n",
       "      <th>4372.8159</th>\n",
       "      <td>NaN</td>\n",
       "      <td>NaN</td>\n",
       "      <td>NaN</td>\n",
       "      <td>NaN</td>\n",
       "      <td>NaN</td>\n",
       "      <td>NaN</td>\n",
       "      <td>NaN</td>\n",
       "      <td>NaN</td>\n",
       "      <td>NaN</td>\n",
       "      <td>NaN</td>\n",
       "      <td>...</td>\n",
       "      <td>NaN</td>\n",
       "      <td>NaN</td>\n",
       "      <td>NaN</td>\n",
       "      <td>NaN</td>\n",
       "      <td>NaN</td>\n",
       "      <td>NaN</td>\n",
       "      <td>NaN</td>\n",
       "      <td>NaN</td>\n",
       "      <td>NaN</td>\n",
       "      <td>NaN</td>\n",
       "    </tr>\n",
       "  </tbody>\n",
       "</table>\n",
       "<p>5 rows × 26 columns</p>\n",
       "</div>"
      ],
      "text/plain": [
       "           4   5   6   7   16  27  30  31  36  37 ...  57   59  62  65  66  \\\n",
       "4372.0352 NaN NaN NaN NaN NaN NaN NaN NaN NaN NaN ... NaN  NaN NaN NaN NaN   \n",
       "4372.3079 NaN NaN NaN NaN NaN NaN NaN NaN NaN NaN ... NaN  NaN NaN NaN NaN   \n",
       "4372.6089 NaN NaN NaN NaN NaN NaN NaN NaN NaN NaN ... NaN  NaN NaN NaN NaN   \n",
       "4372.7451 NaN NaN NaN NaN NaN NaN NaN NaN NaN NaN ... NaN  1.0 NaN NaN NaN   \n",
       "4372.8159 NaN NaN NaN NaN NaN NaN NaN NaN NaN NaN ... NaN  NaN NaN NaN NaN   \n",
       "\n",
       "           76  81  82  84  85  \n",
       "4372.0352 NaN NaN NaN NaN NaN  \n",
       "4372.3079 NaN NaN NaN NaN NaN  \n",
       "4372.6089 NaN NaN NaN NaN NaN  \n",
       "4372.7451 NaN NaN NaN NaN NaN  \n",
       "4372.8159 NaN NaN NaN NaN NaN  \n",
       "\n",
       "[5 rows x 26 columns]"
      ]
     },
     "execution_count": 9,
     "metadata": {},
     "output_type": "execute_result"
    }
   ],
   "source": [
    "lfpdata.head()\n",
    "spikes.head()"
   ]
  },
  {
   "cell_type": "code",
   "execution_count": 10,
   "metadata": {
    "ExecuteTime": {
     "end_time": "2017-03-06T12:08:01.752376",
     "start_time": "2017-03-06T12:08:01.690943"
    },
    "collapsed": false
   },
   "outputs": [],
   "source": [
    "tstart = 5000\n",
    "tend = 6000\n",
    "S_restr = vdm.restrict(S_ordered,tstart,tend)\n",
    "lfp_idx = vdm.ridx(runLFP['tvec'],tstart,tend)\n",
    "lfp_tvec = runLFP['tvec'][lfp_idx]\n",
    "lfp_data = runLFP['data'][lfp_idx]"
   ]
  },
  {
   "cell_type": "code",
   "execution_count": 12,
   "metadata": {
    "ExecuteTime": {
     "end_time": "2017-03-06T12:13:34.654478",
     "start_time": "2017-03-06T12:13:32.264494"
    },
    "collapsed": false
   },
   "outputs": [
    {
     "data": {
      "image/png": "[encoded data removed]",
      "text/plain": [
       "<matplotlib.figure.Figure at 0x11e4d4240>"
      ]
     },
     "metadata": {
      "image/png": {
       "height": 465,
       "width": 739
      }
     },
     "output_type": "display_data"
    }
   ],
   "source": [
    "from ipywidgets import widgets\n",
    "from IPython import display\n",
    "from matplotlib import gridspec\n",
    "\n",
    "fig = plt.figure(figsize=(12, 8)) \n",
    "gs = gridspec.GridSpec(3, 1) \n",
    "\n",
    "ax0 = fig.add_subplot(gs[:-1,0])\n",
    "for i in range(np.size(S_restr)-1):\n",
    "    ax0.vlines(S_restr[i],0.1+i,0.9+i);\n",
    "\n",
    "ax1 = fig.add_subplot(gs[2,0])\n",
    "ax1.plot(lfp_tvec,lfp_data,linewidth=1);\n",
    "plt.close(fig)\n",
    "# plt.show();\n",
    "\n",
    "def func(t):\n",
    "    global tb\n",
    "    tb = t\n",
    "    ax0.set_xlim(t,t+window);\n",
    "    ax1.set_xlim(t,t+window);\n",
    "    display.display(fig)\n",
    "    \n",
    "def func2(w):\n",
    "    global window\n",
    "    window = w\n",
    "    ax0.set_xlim(tb,tb+window);\n",
    "    ax1.set_xlim(tb,tb+window);\n",
    "    display.display(fig)\n",
    "\n",
    "window = 10\n",
    "\n",
    "widgets.interact(func,t=(tstart,tend-window));\n",
    "widgets.interact(func2,w=(1,20));"
   ]
  },
  {
   "cell_type": "code",
   "execution_count": null,
   "metadata": {
    "collapsed": true
   },
   "outputs": [],
   "source": []
  },
  {
   "cell_type": "raw",
   "metadata": {
    "ExecuteTime": {
     "end_time": "2017-03-06T01:56:12.159549",
     "start_time": "2017-03-06T01:56:08.534667"
    }
   },
   "source": [
    "from ipywidgets import widgets\n",
    "from IPython import display\n",
    "from matplotlib import gridspec\n",
    "\n",
    "fig,ax = plt.subplots(2,1,figsize=(12,8));\n",
    "for i in range(np.size(S_ordered)-1):\n",
    "    ax[0].vlines(S_ordered[i],0.1+i,0.9+i);\n",
    "ax[1].plot(runLFP['tvec'],runLFP['data'],linewidth=1);\n",
    "plt.close(fig)\n",
    "# plt.show();\n",
    "\n",
    "def func(t):\n",
    "    ax[0].set_xlim(t,t+10);\n",
    "    ax[1].set_xlim(t,t+10);\n",
    "    display.display(fig)\n",
    "    \n",
    "widgets.interact(func,t=(min(spikes.index),max(spikes.index)-10));"
   ]
  }
 ],
 "metadata": {
  "kernelspec": {
   "display_name": "Python 3",
   "language": "python",
   "name": "python3"
  },
  "language_info": {
   "codemirror_mode": {
    "name": "ipython",
    "version": 3
   },
   "file_extension": ".py",
   "mimetype": "text/x-python",
   "name": "python",
   "nbconvert_exporter": "python",
   "pygments_lexer": "ipython3",
   "version": "3.4.5"
  },
  "toc": {
   "colors": {
    "hover_highlight": "#DAA520",
    "running_highlight": "#FF0000",
    "selected_highlight": "#FFD700"
   },
   "moveMenuLeft": true,
   "nav_menu": {
    "height": "12px",
    "width": "252px"
   },
   "navigate_menu": true,
   "number_sections": false,
   "sideBar": true,
   "threshold": 4,
   "toc_cell": false,
   "toc_section_display": "block",
   "toc_window_display": true
  },
  "widgets": {
   "state": {
    "02900ffa90614428848581b1f3b1d2be": {
     "views": [
      {
       "cell_index": 18
      }
     ]
    },
    "338c5165c5d847a4af9183cf9d960005": {
     "views": [
      {
       "cell_index": 19
      }
     ]
    },
    "5e1218edbbb94fafa44e51a7440a88fb": {
     "views": [
      {
       "cell_index": 19
      }
     ]
    },
    "83caf7b82b434871a1193364c3ebc31c": {
     "views": [
      {
       "cell_index": 18
      }
     ]
    },
    "8b88ca2ea4c24fdb9c9a92d1e524b867": {
     "views": [
      {
       "cell_index": 20
      }
     ]
    }
   },
   "version": "1.2.0"
  }
 },
 "nbformat": 4,
 "nbformat_minor": 2
}
