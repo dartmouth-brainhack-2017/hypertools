{
 "cells": [
  {
   "cell_type": "code",
   "execution_count": 1,
   "metadata": {
    "ExecuteTime": {
     "end_time": "2017-03-05T18:52:54.202092",
     "start_time": "2017-03-05T18:52:51.588035"
    },
    "collapsed": false
   },
   "outputs": [],
   "source": [
    "import matplotlib.pyplot as plt\n",
    "import hypertools as hyp\n",
    "import numpy as np\n",
    "import pandas as pd\n",
    "%matplotlib inline\n",
    "from matplotlib import animation, rc\n",
    "from sklearn.decomposition import PCA\n",
    "from IPython.display import HTML\n",
    "import vdmtools as vdm\n",
    "from vdmtools import printm\n",
    "\n",
    "%matplotlib inline\n",
    "\n",
    "import warnings\n",
    "warnings.filterwarnings('ignore')"
   ]
  },
  {
   "cell_type": "code",
   "execution_count": 2,
   "metadata": {
    "ExecuteTime": {
     "end_time": "2017-03-05T18:52:54.209023",
     "start_time": "2017-03-05T18:52:54.203895"
    },
    "collapsed": false
   },
   "outputs": [
    {
     "name": "stdout",
     "output_type": "stream",
     "text": [
      "/Users/youkitanaka/Documents/Github/hypertools-fork/sandbox_rats/ratdata/R050-2014-04-02\n"
     ]
    }
   ],
   "source": [
    "cd ratdata/R050-2014-04-02"
   ]
  },
  {
   "cell_type": "code",
   "execution_count": 3,
   "metadata": {
    "ExecuteTime": {
     "end_time": "2017-03-05T18:52:57.053213",
     "start_time": "2017-03-05T18:52:54.210826"
    },
    "collapsed": false
   },
   "outputs": [],
   "source": [
    "data = vdm.loadmat('spikes.mat')\n",
    "S = data['spikes']\n",
    "data = vdm.loadmat('lfpTH.mat')\n",
    "runLFP = data['lfpTH']\n",
    "data = vdm.loadmat('metadata.mat')\n",
    "metadata = data['metadata']\n",
    "data = vdm.loadmat('position.mat')\n",
    "pos = data['position']"
   ]
  },
  {
   "cell_type": "markdown",
   "metadata": {},
   "source": [
    "Try to figure out a way to convert an entire session worth's data into a single pandas dataframe for easy procesing and also useful format for hypertools (and other analysis modules) [See pic](https://goo.gl/photos/aRAHFzosiqCge99Z9)"
   ]
  },
  {
   "cell_type": "code",
   "execution_count": 29,
   "metadata": {
    "ExecuteTime": {
     "end_time": "2017-03-05T17:44:41.051882",
     "start_time": "2017-03-05T17:44:40.245966"
    },
    "collapsed": false
   },
   "outputs": [],
   "source": [
    "lfp_tvec = runLFP['tvec']\n",
    "lfp_data = list(runLFP['data'])\n",
    "pos_data = list(pos['data'])\n",
    "pos_tvec = pos['tvec']"
   ]
  },
  {
   "cell_type": "code",
   "execution_count": 53,
   "metadata": {
    "ExecuteTime": {
     "end_time": "2017-03-05T17:58:58.798079",
     "start_time": "2017-03-05T17:58:58.580624"
    },
    "collapsed": false
   },
   "outputs": [
    {
     "data": {
      "text/plain": [
       "9186304"
      ]
     },
     "execution_count": 53,
     "metadata": {},
     "output_type": "execute_result"
    },
    {
     "data": {
      "text/plain": [
       "133233"
      ]
     },
     "execution_count": 53,
     "metadata": {},
     "output_type": "execute_result"
    },
    {
     "data": {
      "text/plain": [
       "1999.9999995925464"
      ]
     },
     "execution_count": 53,
     "metadata": {},
     "output_type": "execute_result"
    },
    {
     "data": {
      "text/plain": [
       "30.040855563900905"
      ]
     },
     "execution_count": 53,
     "metadata": {},
     "output_type": "execute_result"
    }
   ],
   "source": [
    "np.size(lfp_tvec)\n",
    "np.size(pos_tvec)\n",
    "1/np.median(np.diff(lfp_tvec))\n",
    "1/np.median(np.diff(pos_tvec))"
   ]
  },
  {
   "cell_type": "code",
   "execution_count": 14,
   "metadata": {
    "ExecuteTime": {
     "end_time": "2017-03-05T17:07:39.717911",
     "start_time": "2017-03-05T17:07:39.713078"
    },
    "collapsed": false
   },
   "outputs": [],
   "source": [
    "left_trials = metadata['taskvars']['trial_iv_L']\n",
    "right_trials = metadata['taskvars']['trial_iv_R']"
   ]
  },
  {
   "cell_type": "code",
   "execution_count": 22,
   "metadata": {
    "ExecuteTime": {
     "end_time": "2017-03-05T15:32:04.887398",
     "start_time": "2017-03-05T15:32:04.876974"
    },
    "collapsed": false
   },
   "outputs": [
    {
     "name": "stdout",
     "output_type": "stream",
     "text": [
      "     cfg            <class 'dict'> ['history']\n",
      "  tstart   <class 'numpy.ndarray'> (15,)\n",
      "    tend   <class 'numpy.ndarray'> (15,)\n"
     ]
    },
    {
     "data": {
      "text/plain": [
       "6141.6130149999999"
      ]
     },
     "execution_count": 22,
     "metadata": {},
     "output_type": "execute_result"
    },
    {
     "data": {
      "text/plain": [
       "6200.1031189999994"
      ]
     },
     "execution_count": 22,
     "metadata": {},
     "output_type": "execute_result"
    }
   ],
   "source": [
    "printm(left_trials)\n",
    "left_trials['tstart'][0]\n",
    "left_trials['tend'][0]"
   ]
  },
  {
   "cell_type": "code",
   "execution_count": 24,
   "metadata": {
    "ExecuteTime": {
     "end_time": "2017-03-05T15:33:30.237217",
     "start_time": "2017-03-05T15:33:30.200962"
    },
    "collapsed": false
   },
   "outputs": [],
   "source": [
    "newS = vdm.restrict(S['t'],left_trials['tstart'][0],left_trials['tend'][0])"
   ]
  },
  {
   "cell_type": "code",
   "execution_count": 21,
   "metadata": {
    "ExecuteTime": {
     "end_time": "2017-03-05T15:31:37.339428",
     "start_time": "2017-03-05T15:31:30.005382"
    },
    "collapsed": false
   },
   "outputs": [
    {
     "data": {
      "image/png": "[encoded data removed]",
      "text/plain": [
       "<matplotlib.figure.Figure at 0x11ce457f0>"
      ]
     },
     "metadata": {
      "image/png": {
       "height": 357,
       "width": 478
      }
     },
     "output_type": "display_data"
    }
   ],
   "source": [
    "plt.figure(figsize=(8,6))\n",
    "for i in range(np.size(newS)-1):\n",
    "    plt.vlines(newS[i],0.1+i,0.9+i)\n",
    "plt.show();"
   ]
  },
  {
   "cell_type": "code",
   "execution_count": null,
   "metadata": {
    "collapsed": false
   },
   "outputs": [],
   "source": [
    "fig,ax,data = hyp.plot(runL1,show=False,return_data=True)\n",
    "ax.set_title('left trial 1')\n",
    "plt.show()"
   ]
  },
  {
   "cell_type": "code",
   "execution_count": null,
   "metadata": {
    "collapsed": false
   },
   "outputs": [],
   "source": [
    "fig,ax,data,anim = hyp.plot([lfpL1],animate=1,show=False,return_data=True)\n",
    "HTML(anim.to_html5_video())"
   ]
  },
  {
   "cell_type": "code",
   "execution_count": null,
   "metadata": {
    "collapsed": false
   },
   "outputs": [],
   "source": [
    "hyp.plot([lfpL1])"
   ]
  },
  {
   "cell_type": "code",
   "execution_count": null,
   "metadata": {
    "collapsed": false
   },
   "outputs": [],
   "source": [
    "runL_pca = PCA(n_components=3)\n",
    "runL_pca.fit(runL1)\n",
    "np.shape(runL_pca.components_)"
   ]
  },
  {
   "cell_type": "code",
   "execution_count": null,
   "metadata": {
    "collapsed": false
   },
   "outputs": [],
   "source": [
    "runL1_pca = np.dot(runL1.as_matrix(),np.transpose(runL_pca.components_))\n",
    "runL2_pca = np.dot(runL2.as_matrix(),np.transpose(runL_pca.components_))\n",
    "runR1_pca = np.dot(runR1.as_matrix(),np.transpose(runL_pca.components_))\n",
    "replay_pca = np.dot(replayL1.as_matrix(),np.transpose(runL_pca.components_))"
   ]
  },
  {
   "cell_type": "code",
   "execution_count": null,
   "metadata": {
    "collapsed": false
   },
   "outputs": [],
   "source": [
    "fig,ax,data = hyp.plot([runL1_pca,runL2_pca],show=False,return_data=True,save_path='twotrials_same_eigvec')\n",
    "ax.set_title('left trial 1 vs left trial 2 using trial 1 eigenvectors')\n",
    "plt.show()\n",
    "\n",
    "fig,ax,data = hyp.plot([runL1,runL2],show=False,return_data=True,save_path='twotrials')\n",
    "ax.set_title('left trial 1 vs left trial 2 generated separated')\n",
    "plt.show()"
   ]
  },
  {
   "cell_type": "code",
   "execution_count": null,
   "metadata": {
    "collapsed": false
   },
   "outputs": [],
   "source": [
    "fig,ax,data = hyp.plot([runL1_pca,runR1_pca],show=False,return_data=True)\n",
    "ax.set_title('left trial 1 vs right trial 1 using same eigenvectors')\n",
    "plt.show()\n",
    "\n",
    "fig,ax,data = hyp.plot([runL1,runR1],show=False,return_data=True)\n",
    "ax.set_title('left trial 1 vs right trial 1 generated separately')\n",
    "plt.show()"
   ]
  },
  {
   "cell_type": "code",
   "execution_count": null,
   "metadata": {
    "collapsed": false
   },
   "outputs": [],
   "source": [
    "np.shape(runL1)\n",
    "np.shape(lfpL1)"
   ]
  }
 ],
 "metadata": {
  "kernelspec": {
   "display_name": "Python 3",
   "language": "python",
   "name": "python3"
  },
  "language_info": {
   "codemirror_mode": {
    "name": "ipython",
    "version": 3
   },
   "file_extension": ".py",
   "mimetype": "text/x-python",
   "name": "python",
   "nbconvert_exporter": "python",
   "pygments_lexer": "ipython3",
   "version": "3.4.5"
  },
  "toc": {
   "colors": {
    "hover_highlight": "#DAA520",
    "running_highlight": "#FF0000",
    "selected_highlight": "#FFD700"
   },
   "moveMenuLeft": true,
   "nav_menu": {
    "height": "12px",
    "width": "252px"
   },
   "navigate_menu": true,
   "number_sections": true,
   "sideBar": true,
   "threshold": 4,
   "toc_cell": false,
   "toc_section_display": "block",
   "toc_window_display": false
  }
 },
 "nbformat": 4,
 "nbformat_minor": 2
}
